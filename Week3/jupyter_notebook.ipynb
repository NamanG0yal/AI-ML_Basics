{
  "nbformat": 4,
  "nbformat_minor": 0,
  "metadata": {
    "colab": {
      "provenance": [],
      "gpuType": "T4"
    },
    "kernelspec": {
      "name": "python3",
      "display_name": "Python 3"
    },
    "language_info": {
      "name": "python"
    },
    "accelerator": "GPU"
  },
  "cells": [
    {
      "cell_type": "code",
      "execution_count": 24,
      "metadata": {
        "id": "3YSE04VESCxy",
        "colab": {
          "base_uri": "https://localhost:8080/",
          "height": 514
        },
        "outputId": "ede7cd4c-3e44-4200-e8ba-8e43de57065c"
      },
      "outputs": [
        {
          "output_type": "stream",
          "name": "stdout",
          "text": [
            "Requirement already satisfied: kneed in /usr/local/lib/python3.10/dist-packages (0.8.5)\n",
            "Requirement already satisfied: numpy>=1.14.2 in /usr/local/lib/python3.10/dist-packages (from kneed) (1.26.4)\n",
            "Requirement already satisfied: scipy>=1.0.0 in /usr/local/lib/python3.10/dist-packages (from kneed) (1.13.1)\n"
          ]
        },
        {
          "output_type": "execute_result",
          "data": {
            "text/plain": [
              "[<matplotlib.lines.Line2D at 0x7fa1e8c29570>]"
            ]
          },
          "metadata": {},
          "execution_count": 24
        },
        {
          "output_type": "display_data",
          "data": {
            "text/plain": [
              "<Figure size 1000x500 with 1 Axes>"
            ],
            "image/png": "[encoded data removed]"
          },
          "metadata": {}
        }
      ],
      "source": [
        "!pip install kneed\n",
        "from kneed import KneeLocator\n",
        "import pandas as pd\n",
        "import numpy as np\n",
        "from sklearn.model_selection import train_test_split\n",
        "import matplotlib.pyplot as plt\n",
        "from sklearn.cluster import KMeans\n",
        "from sklearn.metrics import silhouette_score\n",
        "from sklearn.preprocessing import MinMaxScaler\n",
        "from sklearn.preprocessing import OneHotEncoder\n",
        "from sklearn.manifold import TSNE\n",
        "from sklearn.cluster import DBSCAN\n",
        "import sklearn.utils\n",
        "b=MinMaxScaler()\n",
        "data=pd.read_csv('/content/data.csv',encoding=\"ISO-8859-1\")\n",
        "data['InvoiceDate'] = pd.to_datetime(data['InvoiceDate'])\n",
        "#Data preprocessing\n",
        "#Imputation nothelpful here, thus removing the empty records\n",
        "data.dropna(axis=0,subset='CustomerID',inplace=True)\n",
        "#removing duplicate records\n",
        "data.drop_duplicates(inplace = True)\n",
        "data['Total']=data['Quantity']*data['UnitPrice']\n",
        "d_use=data.groupby(by=['CustomerID'], as_index=False)['Total'].sum()\n",
        "d_use=d_use.set_index('CustomerID')\n",
        "d=data.groupby(by=['CustomerID'], as_index=False)['InvoiceDate'].count()\n",
        "d=d.rename(columns={'InvoiceDate':'No. of products'})\n",
        "d=d.set_index('CustomerID')\n",
        "d_use=pd.concat([d_use,d],axis=1)\n",
        "x=b.fit_transform(d_use)\n",
        "df_products = (data['Description'].unique())\n",
        "d={}\n",
        "lew=[]\n",
        "co=['RED','YELLOW','BLUE','BLACK','WHITE','GREEN','ORANGE']\n",
        "for item in df_products:\n",
        "    il=item.split()\n",
        "    for color in co:\n",
        "     if color in il:\n",
        "       il.remove(color)\n",
        "    k= ' '.join(il[-2:])\n",
        "    d[item]=k\n",
        "for item in data['Description']:\n",
        "    lew.append(d[item])\n",
        "data['Categorynew']=lew\n",
        "#Finding best cluster no. using elbow method\n",
        "data=data.set_index('CustomerID')\n",
        "data=data.drop('InvoiceNo',axis=1)\n",
        "data=data.drop('Description',axis=1)\n",
        "data=data.drop('StockCode',axis=1)\n",
        "data=data.drop('Country',axis=1)\n",
        "data=data.drop('InvoiceDate',axis=1)\n",
        "df_encoded = pd.get_dummies(data,columns=['Categorynew'],dtype=int)\n",
        "#Type 1 of analysis-using 2 variate data of no. of times customer buys and the value of product bought\n",
        "#first normal k-means is used using ecss score, then dbscan is used\n",
        "wcss=[]\n",
        "for i in range(1,11):\n",
        "   km=KMeans(n_clusters=i, random_state=0, init=\"k-means++\")\n",
        "   km.fit(x)\n",
        "   wcss.append(km.inertia_)\n",
        "plt.plot(range(1,11),wcss)\n",
        "plt.xlabel('No. of Clusters')\n",
        "plt.ylabel('WCSS')\n",
        "plt.show()\n",
        "kl = KneeLocator(range(1, 11), wcss, curve=\"convex\", direction=\"decreasing\")\n",
        "print(kl.elbow)\n",
        "#Thus optimal number of clusters is 4\n",
        "km=KMeans(n_clusters=4, random_state=0, init='k-means++')\n",
        "y=km.fit_predict(x)\n",
        "plt.scatter(x[y==0,0],x[y==0,1],s=10,c='red',label='cluster 1')\n",
        "plt.scatter(x[y==1,0],x[y==1,1],s=10,c='blue',label='cluster 2')\n",
        "plt.scatter(x[y==2,0],x[y==2,1],s=10,c='green',label='cluster 3')\n",
        "plt.scatter(x[y==3,0],x[y==3,1],s=10,c='yellow',label='cluster 4')\n",
        "#dbscan\n",
        "#eps=0.348954 becomes too small\n",
        "db = DBSCAN(eps=0.348954, min_samples=2).fit(x)\n",
        "core_samples_mask = np.zeros_like(db.labels_, dtype=bool)\n",
        "core_samples_mask[db.core_sample_indices_] = True\n",
        "labels = db.labels_\n",
        "plt.figure(figsize=(10,5))\n",
        "unique_labels = set(labels)\n",
        "colors = [plt.cm.Spectral(each)\n",
        "          for each in np.linspace(0, 1, len(unique_labels))]\n",
        "for k, col in zip(unique_labels, colors):\n",
        "    if k == -1:\n",
        "        col = [0, 0, 0, 1]\n",
        "class_member_mask = (labels == k)\n",
        "xy = x[class_member_mask & core_samples_mask]\n",
        "plt.plot(xy[:, 0], xy[:, 1], 'o', markerfacecolor=tuple(col),\n",
        "             markeredgecolor='k', markersize=14)\n",
        "xy = x[class_member_mask & ~core_samples_mask]\n",
        "plt.plot(xy[:, 0], xy[:, 1], 'o', markerfacecolor=tuple(col),\n",
        "             markeredgecolor='k', markersize=6)\n",
        "#eps=0.348955 becomes too large\n",
        "db = DBSCAN(eps=0.348955, min_samples=2).fit(x)\n",
        "core_samples_mask = np.zeros_like(db.labels_, dtype=bool)\n",
        "core_samples_mask[db.core_sample_indices_] = True\n",
        "labels = db.labels_\n",
        "plt.figure(figsize=(10,5))\n",
        "unique_labels = set(labels)\n",
        "colors = [plt.cm.Spectral(each)\n",
        "          for each in np.linspace(0, 1, len(unique_labels))]\n",
        "for k, col in zip(unique_labels, colors):\n",
        "    if k == -1:\n",
        "        col = [0, 0, 0, 1]\n",
        "class_member_mask = (labels == k)\n",
        "xy = x[class_member_mask & core_samples_mask]\n",
        "plt.plot(xy[:, 0], xy[:, 1], 'o', markerfacecolor=tuple(col),\n",
        "             markeredgecolor='k', markersize=14)\n",
        "xy = x[class_member_mask & ~core_samples_mask]\n",
        "plt.plot(xy[:, 0], xy[:, 1], 'o', markerfacecolor=tuple(col),\n",
        "             markeredgecolor='k', markersize=6)\n",
        "#type-2 using multivariate data to analyse the type of product bought by the customers\n",
        "#using tsne to convert to 2 variables\n",
        "tsne = TSNE(n_components=2, random_state=0)\n",
        "tsne_obj= tsne.fit_transform(df_encoded)\n",
        "xnew=b.fit_transform(tsne_obj)\n",
        "wcss=[]\n",
        "for i in range(1,11):\n",
        "   km=KMeans(n_clusters=i, random_state=0, init=\"k-means++\")\n",
        "   km.fit(xnew)\n",
        "   wcss.append(km.inertia_)\n",
        "plt.plot(range(1,11),wcss)\n",
        "plt.xlabel('No. of Clusters')\n",
        "plt.ylabel('WCSS')\n",
        "plt.show()\n",
        "kl = KneeLocator(range(1, 11), wcss, curve=\"convex\", direction=\"decreasing\")\n",
        "print(kl.elbow)\n",
        "#optimal no. of clusters here also is 4\n",
        "km=KMeans(n_clusters=4, random_state=0, init='k-means++')\n",
        "y=km.fit_predict(xnew)\n",
        "plt.scatter(x[y==0,0],x[y==0,1],s=10,c='red',label='cluster 1')\n",
        "plt.scatter(x[y==1,0],x[y==1,1],s=10,c='blue',label='cluster 2')\n",
        "plt.scatter(x[y==2,0],x[y==2,1],s=10,c='green',label='cluster 3')\n",
        "plt.scatter(x[y==3,0],x[y==3,1],s=10,c='yellow',label='cluster 4')"
      ]
    }
  ]
}
